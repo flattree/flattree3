{
 "cells": [
  {
   "cell_type": "markdown",
   "metadata": {},
   "source": [
    "# FlatTree v.3"
   ]
  },
  {
   "cell_type": "markdown",
   "metadata": {},
   "source": [
    "Вариант с классами DictKey, ListKey, соответствующими DictBranch и ListBranch, с функциями, собранными в private.py"
   ]
  },
  {
   "cell_type": "markdown",
   "metadata": {},
   "source": [
    "## Термины\n",
    "xtree\n",
    ": eXtended Tree, hierarchical structure with dict or list branches\n",
    "\n",
    "ixtree\n",
    ": internal (or intermediate) xtree, with flattree classes as branches, which can be rendered dicts or lists\n",
    "\n",
    "leafpath\n",
    ": path to the leaf across xtree encoded as a list of Key classes, e.g. [DictKey('server'), ListKey(3)]\n",
    "\n",
    "leafkey\n",
    ": path to the leaf across xtree encoded as a string, e.g. \"server[3].cpu[0].model\"\n",
    "\n",
    "leafstream\n",
    ": iterable of (leafpath, leaf value) tuples\n",
    "\n",
    "crown\n",
    ": dictionary of tree leaves {leafkey: value}\n",
    "\n",
    "shadow\n",
    ": (leafkey, value) pairs that can't make into a tree because they're shadowed by the crown"
   ]
  },
  {
   "cell_type": "markdown",
   "metadata": {},
   "source": [
    "### Examples of xtrees"
   ]
  },
  {
   "cell_type": "code",
   "execution_count": 1,
   "metadata": {},
   "outputs": [],
   "source": [
    "xt0 = None  # degenerate \"root=leaf\" case\n",
    "xt1 = [{'x': 'X', \n",
    "        1: 1000, \n",
    "        None: [None, {1: {'1.1': 11, '1.2': {'1.2.[1]': 121, '1.2.[2]': 122}}}]},\n",
    "       {'True': True, 'False': False},\n",
    "      'tail']  # root=list\n",
    "xt2 = {\n",
    "    '': {'': {'': xt1}},\n",
    "    1: 'One',\n",
    "    '1': 1,\n",
    "    \".''..[]\": 'Separators, brackets, quotes'\n",
    "}  # root = dictionary"
   ]
  },
  {
   "cell_type": "markdown",
   "metadata": {},
   "source": [
    "## Ключевой код"
   ]
  },
  {
   "cell_type": "code",
   "execution_count": 2,
   "metadata": {},
   "outputs": [
    {
     "data": {
      "text/plain": [
       "{'separator': '.', 'brackets': '[]', 'quotes': \"'\"}"
      ]
     },
     "execution_count": 2,
     "metadata": {},
     "output_type": "execute_result"
    }
   ],
   "source": [
    "from flattree import get_default_settings\n",
    "settings = get_default_settings()\n",
    "settings"
   ]
  },
  {
   "cell_type": "markdown",
   "metadata": {},
   "source": [
    "### Конвертируем xtree в crown"
   ]
  },
  {
   "cell_type": "code",
   "execution_count": 3,
   "metadata": {},
   "outputs": [],
   "source": [
    "from flattree.private import build_crown"
   ]
  },
  {
   "cell_type": "code",
   "execution_count": 4,
   "metadata": {},
   "outputs": [
    {
     "name": "stdout",
     "output_type": "stream",
     "text": [
      "{None: None}\n",
      "{'[0].1': 1000,\n",
      " '[0].None[0]': None,\n",
      " \"[0].None[1].1.'1.1'\": 11,\n",
      " \"[0].None[1].1.'1.2'.'1.2.[1]'\": 121,\n",
      " \"[0].None[1].1.'1.2'.'1.2.[2]'\": 122,\n",
      " '[0].x': 'X',\n",
      " \"[1].'False'\": False,\n",
      " \"[1].'True'\": True,\n",
      " '[2]': 'tail'}\n",
      "{\"'.''''..[]'\": 'Separators, brackets, quotes',\n",
      " \"'1'\": 1,\n",
      " '..[0].1': 1000,\n",
      " '..[0].None[0]': None,\n",
      " \"..[0].None[1].1.'1.1'\": 11,\n",
      " \"..[0].None[1].1.'1.2'.'1.2.[1]'\": 121,\n",
      " \"..[0].None[1].1.'1.2'.'1.2.[2]'\": 122,\n",
      " '..[0].x': 'X',\n",
      " \"..[1].'False'\": False,\n",
      " \"..[1].'True'\": True,\n",
      " '..[2]': 'tail',\n",
      " '1': 'One'}\n"
     ]
    }
   ],
   "source": [
    "from pprint import pprint\n",
    "for xtree in (xt0, xt1, xt2):\n",
    "    pprint(build_crown(xtree, settings))"
   ]
  },
  {
   "cell_type": "markdown",
   "metadata": {},
   "source": [
    "### Конвертируем обратно: crown в xtree"
   ]
  },
  {
   "cell_type": "markdown",
   "metadata": {},
   "source": [
    "Процедура восстановления xtree состоит из двух шагов:\n",
    "    \n",
    "1. Из Crown получаем leafstream\n",
    "2. Из leafstream получаем восстановленный xtree (и пустой shadow)\n",
    "\n",
    "Два шага необходимы потому, что шаг 2 может использоваться отдельно для восстановления xtree и получения shadow из цепочки leafstream, например, при работе операции merge"
   ]
  },
  {
   "cell_type": "code",
   "execution_count": 5,
   "metadata": {},
   "outputs": [],
   "source": [
    "from flattree.private import _gen_leafstream, _from_leafstream"
   ]
  },
  {
   "cell_type": "code",
   "execution_count": 6,
   "metadata": {},
   "outputs": [
    {
     "name": "stdout",
     "output_type": "stream",
     "text": [
      "None\n",
      "None\n",
      "True\n",
      "[{'x': 'X', 1: 1000, None: [None, {1: {'1.1': 11, '1.2': {'1.2.[1]': 121, '1.2.[2]': 122}}}]}, {'True': True, 'False': False}, 'tail']\n",
      "[{'x': 'X', 1: 1000, None: [None, {1: {'1.1': 11, '1.2': {'1.2.[1]': 121, '1.2.[2]': 122}}}]}, {'True': True, 'False': False}, 'tail']\n",
      "True\n",
      "{'': {'': {'': [{'x': 'X', 1: 1000, None: [None, {1: {'1.1': 11, '1.2': {'1.2.[1]': 121, '1.2.[2]': 122}}}]}, {'True': True, 'False': False}, 'tail']}}, 1: 'One', '1': 1, \".''..[]\": 'Separators, brackets, quotes'}\n",
      "{'': {'': {'': [{'x': 'X', 1: 1000, None: [None, {1: {'1.1': 11, '1.2': {'1.2.[1]': 121, '1.2.[2]': 122}}}]}, {'True': True, 'False': False}, 'tail']}}, 1: 'One', '1': 1, \".''..[]\": 'Separators, brackets, quotes'}\n",
      "True\n"
     ]
    }
   ],
   "source": [
    "for xtree in (xt0, xt1, xt2):\n",
    "    crown = build_crown(xtree, settings)\n",
    "    stream = _gen_leafstream(crown, settings)\n",
    "    _xtree, shadow = _from_leafstream(stream)\n",
    "    print(xtree)\n",
    "    print(_xtree)\n",
    "    print(xtree == _xtree)"
   ]
  },
  {
   "cell_type": "markdown",
   "metadata": {},
   "source": [
    "## Целевая реализация"
   ]
  },
  {
   "cell_type": "code",
   "execution_count": null,
   "metadata": {},
   "outputs": [],
   "source": []
  }
 ],
 "metadata": {
  "kernelspec": {
   "display_name": "Python 3",
   "language": "python",
   "name": "python3"
  },
  "language_info": {
   "codemirror_mode": {
    "name": "ipython",
    "version": 3
   },
   "file_extension": ".py",
   "mimetype": "text/x-python",
   "name": "python",
   "nbconvert_exporter": "python",
   "pygments_lexer": "ipython3",
   "version": "3.6.8"
  }
 },
 "nbformat": 4,
 "nbformat_minor": 4
}
